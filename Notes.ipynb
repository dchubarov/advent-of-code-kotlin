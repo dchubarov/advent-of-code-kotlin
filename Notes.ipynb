{
 "cells": [
  {
   "cell_type": "code",
   "execution_count": 32,
   "metadata": {
    "collapsed": true,
    "ExecuteTime": {
     "end_time": "2023-12-08T15:45:08.497044Z",
     "start_time": "2023-12-08T15:45:08.374319Z"
    }
   },
   "outputs": [],
   "source": [
    "import java.io.File\n",
    "val regexNode = Regex(\"^([A-Z]{3})\\\\s*=\\\\s*\\\\(([A-Z]{3})\\\\s*,\\\\s*([A-Z]{3})\\\\)$\")\n",
    "val input = File(\"data/Day08.txt\").readLines()\n",
    "val waypoints = input.asSequence()\n",
    "    .drop(1)\n",
    "    .filter(String::isNotBlank)\n",
    "    .map { \n",
    "        regexNode.matchEntire(it)?.let { match ->\n",
    "            match.groupValues[1] to Pair(match.groupValues[2], match.groupValues[3])\n",
    "        } ?: throw IllegalStateException()\n",
    "    }\n",
    "    .associateBy({ it.first }) { it.second }\n",
    "val directions = input[0]"
   ]
  },
  {
   "cell_type": "code",
   "execution_count": 33,
   "outputs": [
    {
     "data": {
      "text/plain": "[DPA, QLA, VJA, GTA, AAA, XQA]"
     },
     "execution_count": 33,
     "metadata": {},
     "output_type": "execute_result"
    }
   ],
   "source": [
    "val entryPoints = waypoints.keys.filter { it.endsWith('A') }\n",
    "entryPoints"
   ],
   "metadata": {
    "collapsed": false,
    "ExecuteTime": {
     "end_time": "2023-12-08T15:45:08.545064Z",
     "start_time": "2023-12-08T15:45:08.496017Z"
    }
   }
  },
  {
   "cell_type": "code",
   "execution_count": 34,
   "outputs": [
    {
     "data": {
      "text/plain": "[ZZZ, FXZ, HHZ, XMZ, GLZ, NGZ]"
     },
     "execution_count": 34,
     "metadata": {},
     "output_type": "execute_result"
    }
   ],
   "source": [
    "val exitPoints = waypoints.keys.filter { it.endsWith('Z') }\n",
    "exitPoints"
   ],
   "metadata": {
    "collapsed": false,
    "ExecuteTime": {
     "end_time": "2023-12-08T15:45:08.588576Z",
     "start_time": "2023-12-08T15:45:08.542119Z"
    }
   }
  }
 ],
 "metadata": {
  "kernelspec": {
   "display_name": "Kotlin",
   "language": "kotlin",
   "name": "kotlin"
  },
  "language_info": {
   "name": "kotlin",
   "version": "1.9.0",
   "mimetype": "text/x-kotlin",
   "file_extension": ".kt",
   "pygments_lexer": "kotlin",
   "codemirror_mode": "text/x-kotlin",
   "nbconvert_exporter": ""
  },
  "ktnbPluginMetadata": {
   "projectDependencies": true
  }
 },
 "nbformat": 4,
 "nbformat_minor": 0
}
