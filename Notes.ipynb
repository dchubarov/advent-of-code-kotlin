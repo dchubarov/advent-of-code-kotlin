{
 "cells": [
  {
   "cell_type": "markdown",
   "source": [
    "### Understanding GCD & LCM\n",
    "See [Algorithms](https://www.geeksforgeeks.org/lcm-of-given-array-elements/)"
   ],
   "metadata": {
    "collapsed": false
   }
  },
  {
   "cell_type": "code",
   "execution_count": 23,
   "outputs": [
    {
     "data": {
      "text/plain": "11"
     },
     "execution_count": 23,
     "metadata": {},
     "output_type": "execute_result"
    }
   ],
   "source": [
    "tailrec fun gcd(a: Int, b: Int): Int = if (b == 0) a else gcd(b, a % b)\n",
    "gcd(3434222, 3252381)"
   ],
   "metadata": {
    "collapsed": false,
    "ExecuteTime": {
     "end_time": "2023-12-08T16:51:59.810550Z",
     "start_time": "2023-12-08T16:51:59.762684Z"
    }
   }
  },
  {
   "cell_type": "code",
   "execution_count": 22,
   "outputs": [
    {
     "name": "stdout",
     "output_type": "stream",
     "text": [
      "60\n",
      "18215611419223\n"
     ]
    }
   ],
   "source": [
    "fun Iterable<Int>.lcm() = map { BigInteger.valueOf(it.toLong()) }\n",
    "        .reduce { acc, num -> acc * num / acc.gcd(num) }\n",
    "\n",
    "listOf(5, 2, 4, 3).lcm().println()\n",
    "listOf(12361, 20777, 19199, 18673, 16043, 12361, 15517).lcm().println()"
   ],
   "metadata": {
    "collapsed": false,
    "ExecuteTime": {
     "end_time": "2023-12-08T16:51:51.835627Z",
     "start_time": "2023-12-08T16:51:51.753912Z"
    }
   }
  }
 ],
 "metadata": {
  "kernelspec": {
   "display_name": "Kotlin",
   "language": "kotlin",
   "name": "kotlin"
  },
  "language_info": {
   "name": "kotlin",
   "version": "1.9.0",
   "mimetype": "text/x-kotlin",
   "file_extension": ".kt",
   "pygments_lexer": "kotlin",
   "codemirror_mode": "text/x-kotlin",
   "nbconvert_exporter": ""
  },
  "ktnbPluginMetadata": {
   "projectDependencies": true
  }
 },
 "nbformat": 4,
 "nbformat_minor": 0
}
